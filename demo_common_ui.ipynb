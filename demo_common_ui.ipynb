{
 "cells": [
  {
   "cell_type": "markdown",
   "id": "cea5e491",
   "metadata": {},
   "source": [
    "# A simple demo for the new UI widgets in common package"
   ]
  },
  {
   "cell_type": "markdown",
   "id": "b083fcad",
   "metadata": {},
   "source": [
    "## UIPrompt"
   ]
  },
  {
   "cell_type": "code",
   "execution_count": null,
   "id": "821c3e80",
   "metadata": {},
   "outputs": [],
   "source": [
    "from common.UIPrompt import UIPromptText, UIPromptText3s, UIPromptText10s"
   ]
  },
  {
   "cell_type": "code",
   "execution_count": null,
   "id": "7f45b8f0",
   "metadata": {},
   "outputs": [],
   "source": [
    "# Default UIPromptText duration is 5 seconds\n",
    "p = UIPromptText(debug=True)\n",
    "p"
   ]
  },
  {
   "cell_type": "code",
   "execution_count": null,
   "id": "92e5acaa",
   "metadata": {},
   "outputs": [],
   "source": [
    "p.prompt(\"Hello World\")"
   ]
  },
  {
   "cell_type": "code",
   "execution_count": null,
   "id": "f5061899",
   "metadata": {},
   "outputs": [],
   "source": [
    "p3 = UIPromptText()\n",
    "p3"
   ]
  },
  {
   "cell_type": "code",
   "execution_count": null,
   "id": "55ae90a2",
   "metadata": {},
   "outputs": [],
   "source": [
    "p3.prompt(\"Hello World!\")"
   ]
  },
  {
   "cell_type": "code",
   "execution_count": null,
   "id": "fd656f5a",
   "metadata": {},
   "outputs": [],
   "source": [
    "p10 = UIPromptText10s(debug=True)\n",
    "p10"
   ]
  },
  {
   "cell_type": "code",
   "execution_count": null,
   "id": "4d0f9962",
   "metadata": {},
   "outputs": [],
   "source": [
    "p10.prompt(\"This message will exist for 10 seconds.\")"
   ]
  },
  {
   "cell_type": "code",
   "execution_count": null,
   "id": "d23be971",
   "metadata": {},
   "outputs": [],
   "source": []
  },
  {
   "cell_type": "markdown",
   "id": "631b3a94",
   "metadata": {},
   "source": [
    "## UIImage"
   ]
  },
  {
   "cell_type": "code",
   "execution_count": 1,
   "id": "e70eeaa1",
   "metadata": {},
   "outputs": [],
   "source": [
    "from common.UIImage import ImageDisplayer\n",
    "from utils.files_mgmt import get_file_by_suffix"
   ]
  },
  {
   "cell_type": "code",
   "execution_count": null,
   "id": "14dd240d",
   "metadata": {},
   "outputs": [],
   "source": []
  },
  {
   "cell_type": "code",
   "execution_count": 2,
   "id": "b7736572",
   "metadata": {},
   "outputs": [
    {
     "data": {
      "text/plain": [
       "{'DAB_logo_1.png': '/Users/mac/Projects/virtualic/res/images/DAB_logo_1.png',\n",
       " 'DAB_logo_0.png': '/Users/mac/Projects/virtualic/res/images/DAB_logo_0.png',\n",
       " 'DAB_logo_2.png': '/Users/mac/Projects/virtualic/res/images/DAB_logo_2.png',\n",
       " 'DAB_HW.drawio.png': '/Users/mac/Projects/virtualic/res/images/DAB_HW.drawio.png'}"
      ]
     },
     "execution_count": 2,
     "metadata": {},
     "output_type": "execute_result"
    }
   ],
   "source": [
    "images_DAB_logo = get_file_by_suffix(suffix_name=\"png\", inclusive_keyword=\"DAB\")\n",
    "images_DAB_logo"
   ]
  },
  {
   "cell_type": "code",
   "execution_count": 3,
   "id": "7ec4ab7d",
   "metadata": {},
   "outputs": [
    {
     "data": {
      "application/vnd.jupyter.widget-view+json": {
       "model_id": "ab91541a716f4020a14cc6d656dd3cfb",
       "version_major": 2,
       "version_minor": 0
      },
      "text/plain": [
       "ImageDisplayer(children=(HTML(value='<h2>DAB Logos</h2>'), Dropdown(index=4, options=('DAB_logo_1.png', 'DAB_l…"
      ]
     },
     "metadata": {},
     "output_type": "display_data"
    }
   ],
   "source": [
    "imgs = ImageDisplayer(img_dict=images_DAB_logo, title=\"DAB Logos\")\n",
    "imgs"
   ]
  },
  {
   "cell_type": "code",
   "execution_count": null,
   "id": "e588e98c",
   "metadata": {},
   "outputs": [],
   "source": []
  },
  {
   "cell_type": "markdown",
   "id": "a96440cc",
   "metadata": {},
   "source": [
    "## UISignals"
   ]
  },
  {
   "cell_type": "code",
   "execution_count": 4,
   "id": "d001b3a3",
   "metadata": {},
   "outputs": [],
   "source": [
    "from common.UISignal import UISignalEnum, UISignalIntSlider"
   ]
  },
  {
   "cell_type": "code",
   "execution_count": 6,
   "id": "7b678839",
   "metadata": {},
   "outputs": [
    {
     "data": {
      "application/vnd.jupyter.widget-view+json": {
       "model_id": "8dc45ba36e2944409088e9167ec334eb",
       "version_major": 2,
       "version_minor": 0
      },
      "text/plain": [
       "UISignalIntSlider(children=(HBox(children=(HTML(value=\"<h4 style='font-weight:bold'>speed</h4>\"), Checkbox(val…"
      ]
     },
     "metadata": {},
     "output_type": "display_data"
    }
   ],
   "source": [
    "speed = UISignalIntSlider(default_value=0, min=0, max=320, step=1, signal_name=\"speed\")\n",
    "speed"
   ]
  },
  {
   "cell_type": "code",
   "execution_count": 7,
   "id": "6b2989cd",
   "metadata": {},
   "outputs": [
    {
     "data": {
      "application/vnd.jupyter.widget-view+json": {
       "model_id": "f7a03bd00b4941b88856819d5f322954",
       "version_major": 2,
       "version_minor": 0
      },
      "text/plain": [
       "UISignalEnum(children=(HBox(children=(HTML(value=\"<h4 style='font-weight:bold'>ignitionStatus</h4>\"), Checkbox…"
      ]
     },
     "metadata": {},
     "output_type": "display_data"
    }
   ],
   "source": [
    "tuples_option = [\n",
    "    (\"OFF\", 0),\n",
    "    (\"ACC\", 1),\n",
    "    (\"ON\", 2),\n",
    "    (\"CRANK\", 3)\n",
    "]\n",
    "ign_status = UISignalEnum(tuples_option=tuples_option, signal_name=\"ignitionStatus\")\n",
    "ign_status"
   ]
  },
  {
   "cell_type": "code",
   "execution_count": null,
   "id": "ce1927ef",
   "metadata": {},
   "outputs": [],
   "source": []
  }
 ],
 "metadata": {
  "kernelspec": {
   "display_name": "Python 3",
   "language": "python",
   "name": "python3"
  },
  "language_info": {
   "codemirror_mode": {
    "name": "ipython",
    "version": 3
   },
   "file_extension": ".py",
   "mimetype": "text/x-python",
   "name": "python",
   "nbconvert_exporter": "python",
   "pygments_lexer": "ipython3",
   "version": "3.8.8"
  }
 },
 "nbformat": 4,
 "nbformat_minor": 5
}
