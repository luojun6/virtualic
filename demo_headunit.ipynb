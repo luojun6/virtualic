{
 "cells": [
  {
   "cell_type": "code",
   "execution_count": 1,
   "id": "f7874420",
   "metadata": {},
   "outputs": [
    {
     "data": {
      "text/html": [
       "<!DOCTYPE html>\n",
       "<html>\n",
       "  <head>\n",
       "    <style>\n",
       "      .screen_off {\n",
       "        \n",
       "        background-color: black;\n",
       "      }\n",
       "      .font_color_day {\n",
       "        color: blue;\n",
       "      }\n",
       "      .font_color_night {\n",
       "        color: yellow;\n",
       "      }\n",
       "      .theme_day {\n",
       "        background-color: #f9f9f9;\n",
       "      }\n",
       "      .theme_night {\n",
       "        background-color: #1e1e1e;\n",
       "      }\n",
       "    </style>\n",
       "  </head>\n",
       "  <body></body>\n",
       "</html>\n"
      ],
      "text/plain": [
       "<IPython.core.display.HTML object>"
      ]
     },
     "execution_count": 1,
     "metadata": {},
     "output_type": "execute_result"
    }
   ],
   "source": [
    "from IPython.display import HTML\n",
    "from css.css import get_css_html\n",
    "from utils.loggers import logging_handler\n",
    "html = get_css_html(\"theme\")\n",
    "HTML(html.read().decode('utf-8'))"
   ]
  },
  {
   "cell_type": "code",
   "execution_count": 2,
   "id": "fa169670",
   "metadata": {
    "scrolled": true
   },
   "outputs": [
    {
     "data": {
      "application/vnd.jupyter.widget-view+json": {
       "model_id": "1916a51ba4024dbda21c429d1d253ec5",
       "version_major": 2,
       "version_minor": 0
      },
      "text/plain": [
       "HeadUnit_SRV360(children=(HBox(children=(DisplayPanel(children=(Output(layout=Layout(align_items='center', jus…"
      ]
     },
     "metadata": {},
     "output_type": "display_data"
    }
   ],
   "source": [
    "from components.HeadUnit_SRV360 import HeadUnit_SRV360\n",
    "hu_avm = HeadUnit_SRV360()\n",
    "hu_avm"
   ]
  },
  {
   "cell_type": "code",
   "execution_count": 5,
   "id": "99c7cbae",
   "metadata": {},
   "outputs": [
    {
     "data": {
      "application/vnd.jupyter.widget-view+json": {
       "model_id": "5e37b23cb0e0424ebee2cc5c54105ca7",
       "version_major": 2,
       "version_minor": 0
      },
      "text/plain": [
       "SdCardPluginStatus(description='SDCardSts', options=('SD_CARD_NOT_PLUG_IN', 'SD_CARD_PLUG_IN'), value='SD_CARD…"
      ]
     },
     "metadata": {},
     "output_type": "display_data"
    }
   ],
   "source": [
    "hu_avm.hu.srv360context.sd_card_plugin"
   ]
  },
  {
   "cell_type": "code",
   "execution_count": 3,
   "id": "8698f2c3",
   "metadata": {},
   "outputs": [
    {
     "data": {
      "application/vnd.jupyter.widget-view+json": {
       "model_id": "3ed05779622b45cc80fe02d582cd9f10",
       "version_major": 2,
       "version_minor": 0
      },
      "text/plain": [
       "SignalClusterSRV360(children=(HTML(value=\"<h3 style='font-weight:bold'>SRV360 Signals Cluster</h3>\"), VBox(chi…"
      ]
     },
     "metadata": {},
     "output_type": "display_data"
    }
   ],
   "source": [
    "hu_avm.hu.srv360context.signal_cluster"
   ]
  },
  {
   "cell_type": "code",
   "execution_count": null,
   "id": "136639e8",
   "metadata": {},
   "outputs": [],
   "source": [
    "logging_handler.show_logs()"
   ]
  },
  {
   "cell_type": "code",
   "execution_count": 4,
   "id": "e2e6cb4d",
   "metadata": {},
   "outputs": [
    {
     "data": {
      "application/vnd.jupyter.widget-view+json": {
       "model_id": "b5931892137840c18d3067ea6cbe823d",
       "version_major": 2,
       "version_minor": 0
      },
      "text/plain": [
       "SignalClusterPM(children=(HTML(value=\"<h3 style='font-weight:bold'>Vehicle Powermanagement Signals Cluster</h3…"
      ]
     },
     "metadata": {},
     "output_type": "display_data"
    }
   ],
   "source": [
    "hu_avm.hu.veh_hu_pm.signal_cluster"
   ]
  },
  {
   "cell_type": "code",
   "execution_count": null,
   "id": "47ce41f0",
   "metadata": {},
   "outputs": [],
   "source": []
  },
  {
   "cell_type": "code",
   "execution_count": null,
   "id": "b2a567e3",
   "metadata": {},
   "outputs": [],
   "source": []
  }
 ],
 "metadata": {
  "kernelspec": {
   "display_name": "Python 3 (ipykernel)",
   "language": "python",
   "name": "python3"
  },
  "language_info": {
   "codemirror_mode": {
    "name": "ipython",
    "version": 3
   },
   "file_extension": ".py",
   "mimetype": "text/x-python",
   "name": "python",
   "nbconvert_exporter": "python",
   "pygments_lexer": "ipython3",
   "version": "3.9.7"
  }
 },
 "nbformat": 4,
 "nbformat_minor": 5
}
