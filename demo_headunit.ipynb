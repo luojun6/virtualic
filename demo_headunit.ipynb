{
 "cells": [
  {
   "cell_type": "code",
   "execution_count": 1,
   "id": "f7874420",
   "metadata": {},
   "outputs": [
    {
     "data": {
      "text/html": [
       "<!DOCTYPE html>\n",
       "<html>\n",
       "  <head>\n",
       "    <style>\n",
       "      .screen_off {\n",
       "        \n",
       "        background-color: black;\n",
       "      }\n",
       "      .font_color_day {\n",
       "        color: blue;\n",
       "      }\n",
       "      .font_color_night {\n",
       "        color: yellow;\n",
       "      }\n",
       "      .theme_day {\n",
       "        background-color: #f9f9f9;\n",
       "      }\n",
       "      .theme_night {\n",
       "        background-color: #1e1e1e;\n",
       "      }\n",
       "    </style>\n",
       "  </head>\n",
       "  <body></body>\n",
       "</html>\n"
      ],
      "text/plain": [
       "<IPython.core.display.HTML object>"
      ]
     },
     "execution_count": 1,
     "metadata": {},
     "output_type": "execute_result"
    }
   ],
   "source": [
    "from IPython.display import HTML\n",
    "from css.css import get_css_html\n",
    "from utils.loggers import logging_handler\n",
    "html = get_css_html(\"theme\")\n",
    "HTML(html.read().decode('utf-8'))"
   ]
  },
  {
   "cell_type": "code",
   "execution_count": 2,
   "id": "a2f315c5",
   "metadata": {},
   "outputs": [
    {
     "data": {
      "application/vnd.jupyter.widget-view+json": {
       "model_id": "6c909e0be5b64134a388b3ae6e745243",
       "version_major": 2,
       "version_minor": 0
      },
      "text/plain": [
       "HeadUnit_AVM360(children=(HBox(children=(DisplayPanel(children=(Output(layout=Layout(align_items='center', jus…"
      ]
     },
     "metadata": {},
     "output_type": "display_data"
    }
   ],
   "source": [
    "from components.HeadUnit_AVM360 import HeadUnit_AVM360\n",
    "hu_avm = HeadUnit_AVM360()\n",
    "hu_avm"
   ]
  },
  {
   "cell_type": "code",
   "execution_count": 3,
   "id": "8698f2c3",
   "metadata": {},
   "outputs": [
    {
     "data": {
      "application/vnd.jupyter.widget-view+json": {
       "model_id": "8f8f50559bd8414db1af74d78000e6e8",
       "version_major": 2,
       "version_minor": 0
      },
      "text/plain": [
       "SignalClusterAVM360(children=(HTML(value=\"<h3 style='font-weight:bold'>AVM360 Signals Cluster</h3>\"), VBox(chi…"
      ]
     },
     "metadata": {},
     "output_type": "display_data"
    }
   ],
   "source": [
    "hu_avm.hu.avm360context.signal_cluster"
   ]
  },
  {
   "cell_type": "code",
   "execution_count": 4,
   "id": "e2e6cb4d",
   "metadata": {},
   "outputs": [
    {
     "data": {
      "application/vnd.jupyter.widget-view+json": {
       "model_id": "909c1d774dec49118697d4ae3b8b4a7b",
       "version_major": 2,
       "version_minor": 0
      },
      "text/plain": [
       "SignalClusterPM(children=(HTML(value=\"<h3 style='font-weight:bold'>Vehicle Powermanagement Signals Cluster</h3…"
      ]
     },
     "metadata": {},
     "output_type": "display_data"
    }
   ],
   "source": [
    "hu_avm.hu.veh_hu_pm.signal_cluster"
   ]
  },
  {
   "cell_type": "code",
   "execution_count": null,
   "id": "ab23bd45",
   "metadata": {},
   "outputs": [],
   "source": []
  },
  {
   "cell_type": "code",
   "execution_count": null,
   "id": "136639e8",
   "metadata": {},
   "outputs": [],
   "source": [
    "logging_handler.show_logs()"
   ]
  },
  {
   "cell_type": "code",
   "execution_count": null,
   "id": "47ce41f0",
   "metadata": {},
   "outputs": [],
   "source": []
  },
  {
   "cell_type": "code",
   "execution_count": null,
   "id": "6e7372e6",
   "metadata": {},
   "outputs": [],
   "source": []
  },
  {
   "cell_type": "code",
   "execution_count": null,
   "id": "8942445b",
   "metadata": {},
   "outputs": [],
   "source": []
  }
 ],
 "metadata": {
  "kernelspec": {
   "display_name": "Python 3 (ipykernel)",
   "language": "python",
   "name": "python3"
  },
  "language_info": {
   "codemirror_mode": {
    "name": "ipython",
    "version": 3
   },
   "file_extension": ".py",
   "mimetype": "text/x-python",
   "name": "python",
   "nbconvert_exporter": "python",
   "pygments_lexer": "ipython3",
   "version": "3.9.7"
  }
 },
 "nbformat": 4,
 "nbformat_minor": 5
}
