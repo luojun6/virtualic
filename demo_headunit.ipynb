{
 "cells": [
  {
   "cell_type": "code",
   "execution_count": 1,
   "id": "97da1f67",
   "metadata": {},
   "outputs": [
    {
     "data": {
      "text/html": [
       "<!DOCTYPE html>\n",
       "<html>\n",
       "  <head>\n",
       "    <style>\n",
       "      .screen_off {\n",
       "        \n",
       "        background-color: black;\n",
       "      }\n",
       "      .font_color_day {\n",
       "        color: blue;\n",
       "      }\n",
       "      .font_color_night {\n",
       "        color: yellow;\n",
       "      }\n",
       "      .theme_day {\n",
       "        background-color: #f9f9f9;\n",
       "      }\n",
       "      .theme_night {\n",
       "        background-color: #1e1e1e;\n",
       "      }\n",
       "    </style>\n",
       "  </head>\n",
       "  <body></body>\n",
       "</html>\n"
      ],
      "text/plain": [
       "<IPython.core.display.HTML object>"
      ]
     },
     "execution_count": 1,
     "metadata": {},
     "output_type": "execute_result"
    }
   ],
   "source": [
    "from IPython.display import HTML\n",
    "from css.css import get_css_html\n",
    "from utils.loggers import logging_handler\n",
    "html = get_css_html(\"theme\")\n",
    "HTML(html.read().decode('utf-8'))"
   ]
  },
  {
   "cell_type": "code",
   "execution_count": 2,
   "id": "fefca17c",
   "metadata": {},
   "outputs": [],
   "source": [
    "from components.DisplayPanel import DisplayPanel\n",
    "from components.SignalClusters import SignalClusterPM\n",
    "from components.VirtualSystem_HeadUnit import VirtualSystem_HeadUnit\n",
    "from rules.HeadUnitPM import PowerManagementDisplay as HeadUnitPM\n",
    "from rules.VehicleHeadUnitPM import VehicleHeadUnitPM_SAIC\n",
    "\n",
    "import rules.DockEvents as dock\n",
    "import rules.AVM360Service as avm360"
   ]
  },
  {
   "cell_type": "code",
   "execution_count": 3,
   "id": "53868811",
   "metadata": {},
   "outputs": [],
   "source": [
    "display = DisplayPanel()\n",
    "signal_cluster_pm = SignalClusterPM()\n",
    "hu_pm = HeadUnitPM(display=display)\n",
    "dock_context = dock.DockContext()\n",
    "avm360_context = avm360.AVM360Context\n",
    "veh_hu_pm = VehicleHeadUnitPM_SAIC(hu_pm=hu_pm, sc_pm=signal_cluster_pm)\n",
    "hu = VirtualSystem_HeadUnit(display=display, veh_hu_pm=veh_hu_pm, dock_context=dock_context, avm360context=avm360_context)"
   ]
  },
  {
   "cell_type": "code",
   "execution_count": 5,
   "id": "680bb2f5",
   "metadata": {},
   "outputs": [
    {
     "data": {
      "application/vnd.jupyter.widget-view+json": {
       "model_id": "4b1def119b4a46859a36083d9516fa97",
       "version_major": 2,
       "version_minor": 0
      },
      "text/plain": [
       "DisplayPanel(children=(Output(layout=Layout(align_items='center', justify_content='space-around')),), layout=L…"
      ]
     },
     "metadata": {},
     "output_type": "display_data"
    }
   ],
   "source": [
    "hu.display"
   ]
  },
  {
   "cell_type": "code",
   "execution_count": null,
   "id": "4cdf9504",
   "metadata": {},
   "outputs": [],
   "source": [
    "hu."
   ]
  }
 ],
 "metadata": {
  "kernelspec": {
   "display_name": "Python 3 (ipykernel)",
   "language": "python",
   "name": "python3"
  },
  "language_info": {
   "codemirror_mode": {
    "name": "ipython",
    "version": 3
   },
   "file_extension": ".py",
   "mimetype": "text/x-python",
   "name": "python",
   "nbconvert_exporter": "python",
   "pygments_lexer": "ipython3",
   "version": "3.9.7"
  }
 },
 "nbformat": 4,
 "nbformat_minor": 5
}
