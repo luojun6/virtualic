{
 "cells": [
  {
   "cell_type": "markdown",
   "id": "2c259417",
   "metadata": {},
   "source": [
    "# A simple demo for the business rules design"
   ]
  },
  {
   "cell_type": "markdown",
   "id": "17570a0e",
   "metadata": {},
   "source": [
    "## DisplayPanel with DockEvents"
   ]
  },
  {
   "cell_type": "code",
   "execution_count": null,
   "id": "da3684d7",
   "metadata": {},
   "outputs": [],
   "source": []
  },
  {
   "cell_type": "code",
   "execution_count": null,
   "id": "3961789e",
   "metadata": {},
   "outputs": [],
   "source": [
    "from components.DisplayPanel import *\n",
    "from rules.HeadUnitPM import *\n",
    "from rules.DockEvents import *\n",
    "from IPython.display import HTML\n",
    "from css.css import get_css_html\n",
    "from utils.loggers import logging_handler\n",
    "html = get_css_html(\"theme\")\n",
    "HTML(html.read().decode('utf-8'))"
   ]
  },
  {
   "cell_type": "code",
   "execution_count": null,
   "id": "89540de2",
   "metadata": {},
   "outputs": [],
   "source": [
    "dp = DisplayPanel()\n",
    "pmd = PowerManagementDisplay(display=dp)\n",
    "dp"
   ]
  },
  {
   "cell_type": "code",
   "execution_count": null,
   "id": "bbee1569",
   "metadata": {},
   "outputs": [],
   "source": [
    "home = DockStrategyHomeButton()\n",
    "avm360 = DockStrategyAVM360button()"
   ]
  },
  {
   "cell_type": "code",
   "execution_count": null,
   "id": "2201fd25",
   "metadata": {},
   "outputs": [],
   "source": [
    "dock_events = DockContext(display=dp, strategy=DockStrategyHomeButton)"
   ]
  },
  {
   "cell_type": "code",
   "execution_count": null,
   "id": "b3c78e22",
   "metadata": {},
   "outputs": [],
   "source": [
    "dock_events.process_button_pressed_event()"
   ]
  },
  {
   "cell_type": "code",
   "execution_count": null,
   "id": "bcb3b8a4",
   "metadata": {},
   "outputs": [],
   "source": [
    "dock_events.strategy = avm360"
   ]
  },
  {
   "cell_type": "code",
   "execution_count": null,
   "id": "51891555",
   "metadata": {},
   "outputs": [],
   "source": [
    "dock_events.strategy = home"
   ]
  },
  {
   "cell_type": "code",
   "execution_count": null,
   "id": "8e9dba97",
   "metadata": {},
   "outputs": [],
   "source": [
    "pmd.start_up()"
   ]
  },
  {
   "cell_type": "code",
   "execution_count": null,
   "id": "a8acf0c8",
   "metadata": {},
   "outputs": [],
   "source": [
    "pmd.power_off()"
   ]
  },
  {
   "cell_type": "code",
   "execution_count": null,
   "id": "4e5bba2f",
   "metadata": {},
   "outputs": [],
   "source": [
    "logging_handler.show_logs()"
   ]
  },
  {
   "cell_type": "code",
   "execution_count": null,
   "id": "8cc63847",
   "metadata": {},
   "outputs": [],
   "source": []
  },
  {
   "cell_type": "code",
   "execution_count": null,
   "id": "bf6b035e",
   "metadata": {},
   "outputs": [],
   "source": []
  }
 ],
 "metadata": {
  "kernelspec": {
   "display_name": "Python 3",
   "language": "python",
   "name": "python3"
  },
  "language_info": {
   "codemirror_mode": {
    "name": "ipython",
    "version": 3
   },
   "file_extension": ".py",
   "mimetype": "text/x-python",
   "name": "python",
   "nbconvert_exporter": "python",
   "pygments_lexer": "ipython3",
   "version": "3.8.8"
  }
 },
 "nbformat": 4,
 "nbformat_minor": 5
}
