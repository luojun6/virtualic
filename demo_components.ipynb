{
 "cells": [
  {
   "cell_type": "markdown",
   "id": "2c259417",
   "metadata": {},
   "source": [
    "# A simple demo for the comstumized widgets in components package"
   ]
  },
  {
   "cell_type": "markdown",
   "id": "17570a0e",
   "metadata": {},
   "source": [
    "## DisplayPanel with PowerManagement"
   ]
  },
  {
   "cell_type": "code",
   "execution_count": null,
   "id": "da3684d7",
   "metadata": {},
   "outputs": [],
   "source": []
  },
  {
   "cell_type": "code",
   "execution_count": null,
   "id": "3961789e",
   "metadata": {},
   "outputs": [],
   "source": [
    "from components.DisplayPanel import *\n",
    "from rules.HeadUnitPM import *\n",
    "from IPython.display import HTML\n",
    "from css.css import get_css_html\n",
    "from utils.loggers import logging_handler\n",
    "html = get_css_html(\"theme\")\n",
    "HTML(html.read().decode('utf-8'))"
   ]
  },
  {
   "cell_type": "code",
   "execution_count": null,
   "id": "89540de2",
   "metadata": {},
   "outputs": [],
   "source": [
    "dp = DisplayPanel()\n",
    "dp"
   ]
  },
  {
   "cell_type": "code",
   "execution_count": null,
   "id": "2201fd25",
   "metadata": {},
   "outputs": [],
   "source": [
    "pmd = PowerManagementDisplay(display=dp)"
   ]
  },
  {
   "cell_type": "code",
   "execution_count": null,
   "id": "8e9dba97",
   "metadata": {},
   "outputs": [],
   "source": [
    "pmd.start_up()"
   ]
  },
  {
   "cell_type": "code",
   "execution_count": null,
   "id": "a8acf0c8",
   "metadata": {},
   "outputs": [],
   "source": [
    "pmd.power_off()"
   ]
  },
  {
   "cell_type": "code",
   "execution_count": null,
   "id": "4e5bba2f",
   "metadata": {},
   "outputs": [],
   "source": [
    "logging_handler.show_logs()"
   ]
  },
  {
   "cell_type": "code",
   "execution_count": null,
   "id": "a4f806ed",
   "metadata": {},
   "outputs": [],
   "source": [
    "dp == pmd.display"
   ]
  },
  {
   "cell_type": "code",
   "execution_count": null,
   "id": "dd929df7",
   "metadata": {},
   "outputs": [],
   "source": []
  },
  {
   "cell_type": "code",
   "execution_count": null,
   "id": "8cc63847",
   "metadata": {},
   "outputs": [],
   "source": []
  },
  {
   "cell_type": "markdown",
   "id": "9db117ef",
   "metadata": {},
   "source": [
    "## DockButtons"
   ]
  },
  {
   "cell_type": "code",
   "execution_count": null,
   "id": "edcf68df",
   "metadata": {},
   "outputs": [],
   "source": [
    "from components.DockButtons import DockButtons"
   ]
  },
  {
   "cell_type": "code",
   "execution_count": null,
   "id": "c07050f2",
   "metadata": {
    "scrolled": true
   },
   "outputs": [],
   "source": [
    "dock = DockButtons()\n",
    "dock"
   ]
  },
  {
   "cell_type": "code",
   "execution_count": null,
   "id": "da26b9c8",
   "metadata": {},
   "outputs": [],
   "source": []
  },
  {
   "cell_type": "markdown",
   "id": "08fc666c",
   "metadata": {},
   "source": [
    "## SignalCluster"
   ]
  },
  {
   "cell_type": "code",
   "execution_count": null,
   "id": "ec1e2c28",
   "metadata": {},
   "outputs": [],
   "source": [
    "from components.SignalClusters import SignalClusterPM"
   ]
  },
  {
   "cell_type": "code",
   "execution_count": null,
   "id": "00b2d81f",
   "metadata": {},
   "outputs": [],
   "source": [
    "signal_cluster_pm = SignalClusterPM()"
   ]
  },
  {
   "cell_type": "code",
   "execution_count": null,
   "id": "9250132b",
   "metadata": {},
   "outputs": [],
   "source": [
    "signal_cluster_pm"
   ]
  },
  {
   "cell_type": "markdown",
   "id": "a07a9944",
   "metadata": {},
   "source": [
    "### Rules of composing HeadUnit PM and Signals"
   ]
  },
  {
   "cell_type": "code",
   "execution_count": null,
   "id": "419e5fd2",
   "metadata": {},
   "outputs": [],
   "source": [
    "from rules.VehicleHeadUnitPM import VehicleHeadUnitPM_SAIC as VehicleHeadUnitPM"
   ]
  },
  {
   "cell_type": "code",
   "execution_count": null,
   "id": "b52e8807",
   "metadata": {},
   "outputs": [],
   "source": [
    "veh_hu_pm = VehicleHeadUnitPM(hu_pm=pmd, sc_pm=signal_cluster_pm)"
   ]
  },
  {
   "cell_type": "code",
   "execution_count": null,
   "id": "bf6b035e",
   "metadata": {},
   "outputs": [],
   "source": []
  },
  {
   "cell_type": "markdown",
   "id": "da0d719c",
   "metadata": {},
   "source": [
    "## VirtualHeadUnit"
   ]
  },
  {
   "cell_type": "code",
   "execution_count": null,
   "id": "1864b5f7",
   "metadata": {},
   "outputs": [],
   "source": [
    "from components.VirtualHeadUnit import VirtualHeadUnit"
   ]
  },
  {
   "cell_type": "code",
   "execution_count": null,
   "id": "66fc354e",
   "metadata": {},
   "outputs": [],
   "source": [
    "# v_headunit = VirtualHeadUnit(display=dp, veh_power_manager=veh_hu_pm)\n",
    "v_headunit = VirtualHeadUnit()\n",
    "v_headunit"
   ]
  },
  {
   "cell_type": "code",
   "execution_count": null,
   "id": "11546780",
   "metadata": {},
   "outputs": [],
   "source": [
    "logging_handler.show_logs()"
   ]
  },
  {
   "cell_type": "code",
   "execution_count": null,
   "id": "ebd512e1",
   "metadata": {},
   "outputs": [],
   "source": []
  },
  {
   "cell_type": "code",
   "execution_count": null,
   "id": "be98d542",
   "metadata": {},
   "outputs": [],
   "source": []
  },
  {
   "cell_type": "code",
   "execution_count": 1,
   "id": "ce693115",
   "metadata": {},
   "outputs": [],
   "source": [
    "from components.PMIC_AVM360 import PowerControlBox_AVM360"
   ]
  },
  {
   "cell_type": "code",
   "execution_count": 2,
   "id": "c0330583",
   "metadata": {},
   "outputs": [],
   "source": [
    "cam = PowerControlBox_AVM360()"
   ]
  },
  {
   "cell_type": "code",
   "execution_count": 3,
   "id": "fe65f092",
   "metadata": {},
   "outputs": [
    {
     "data": {
      "application/vnd.jupyter.widget-view+json": {
       "model_id": "ff506e0dde09423fbf1bf3b64cb3de4f",
       "version_major": 2,
       "version_minor": 0
      },
      "text/plain": [
       "PowerControlBox_AVM360(children=(PowerControlBox(children=(Button(description='front-cam', icon='camera', layo…"
      ]
     },
     "metadata": {},
     "output_type": "display_data"
    }
   ],
   "source": [
    "cam"
   ]
  },
  {
   "cell_type": "code",
   "execution_count": null,
   "id": "28196f5a",
   "metadata": {},
   "outputs": [],
   "source": [
    "cam.power_on()"
   ]
  },
  {
   "cell_type": "code",
   "execution_count": null,
   "id": "5d2c092d",
   "metadata": {},
   "outputs": [],
   "source": [
    "cam.power_off()"
   ]
  },
  {
   "cell_type": "code",
   "execution_count": null,
   "id": "a84164e8",
   "metadata": {},
   "outputs": [],
   "source": []
  },
  {
   "cell_type": "code",
   "execution_count": null,
   "id": "dbe386b0",
   "metadata": {},
   "outputs": [],
   "source": [
    "import ipywidgets as widgets"
   ]
  },
  {
   "cell_type": "code",
   "execution_count": null,
   "id": "b840ca1a",
   "metadata": {},
   "outputs": [],
   "source": [
    "cam_box_front = widgets.Box(\n",
    "    layout=widgets.Layout(\n",
    "        width=\"360px\",justify_content=\"center\", align_items=\"center\"\n",
    "    ),\n",
    "    children=[widgets.Button(\n",
    "        description=\"front-cam\", \n",
    "        button_style=\"\", \n",
    "        icon=\"camera\", \n",
    "        layout=widgets.Layout(\n",
    "            width=\"120px\", height=\"40px\"\n",
    "        ))]\n",
    ")\n",
    "cam_box_front"
   ]
  },
  {
   "cell_type": "code",
   "execution_count": null,
   "id": "29baad65",
   "metadata": {},
   "outputs": [],
   "source": [
    "cam_box_ctrl = widgets.Box(\n",
    "    layout=widgets.Layout(\n",
    "        width=\"360px\",justify_content=\"center\", align_items=\"center\"\n",
    "    ),\n",
    "    children=[widgets.Button(\n",
    "        description=\"PMIC-ON\", \n",
    "        button_style=\"danger\", \n",
    "        icon=\"plug\", \n",
    "        layout=widgets.Layout(\n",
    "            width=\"120px\", height=\"40px\"\n",
    "        ))]\n",
    ")\n",
    "cam_box_ctrl"
   ]
  },
  {
   "cell_type": "code",
   "execution_count": null,
   "id": "fc3ff144",
   "metadata": {},
   "outputs": [],
   "source": [
    "cam_box_left = widgets.Box(\n",
    "    layout=widgets.Layout(\n",
    "        width=\"360px\",justify_content=\"flex-start\", align_items=\"center\"\n",
    "    ),\n",
    "    children=[widgets.Button(\n",
    "        description=\"left-cam\", \n",
    "        button_style=\"warning\", \n",
    "        icon=\"camera\", \n",
    "        layout=widgets.Layout(\n",
    "            width=\"120px\", height=\"40px\"\n",
    "        ))]\n",
    ")\n",
    "cam_box_left"
   ]
  },
  {
   "cell_type": "code",
   "execution_count": null,
   "id": "412c0d0c",
   "metadata": {},
   "outputs": [],
   "source": [
    "cam_box_right = widgets.Box(\n",
    "    layout=widgets.Layout(\n",
    "        width=\"360px\",justify_content=\"flex-end\", align_items=\"center\"\n",
    "    ),\n",
    "    children=[widgets.Button(\n",
    "        description=\"right-cam\", \n",
    "        button_style=\"warning\", \n",
    "        icon=\"camera\", \n",
    "        layout=widgets.Layout(\n",
    "            width=\"120px\", height=\"40px\"\n",
    "        ))]\n",
    ")\n",
    "cam_box_right"
   ]
  },
  {
   "cell_type": "code",
   "execution_count": null,
   "id": "b0f54561",
   "metadata": {},
   "outputs": [],
   "source": [
    "cam_box_lr = widgets.VBox(\n",
    "    layout=widgets.Layout(\n",
    "        width=\"360px\",\n",
    "        display='flex',\n",
    "        flex_flow='row',\n",
    "        align_items=\"center\"\n",
    "    ),\n",
    "    children=[cam_box_left, cam_box_ctrl, cam_box_right]\n",
    ")\n",
    "cam_box_lr"
   ]
  },
  {
   "cell_type": "code",
   "execution_count": null,
   "id": "6cd51ecf",
   "metadata": {},
   "outputs": [],
   "source": [
    "widgets.VBox(\n",
    "    layout=widgets.Layout(\n",
    "#         width=\"40%\",\n",
    "        display='flex',\n",
    "        flex_flow='column',\n",
    "        align_items=\"center\"\n",
    "    ),\n",
    "    children=[cam_box_front, cam_box_lr, cam_box_front])"
   ]
  },
  {
   "cell_type": "code",
   "execution_count": null,
   "id": "864fdbaa",
   "metadata": {},
   "outputs": [],
   "source": []
  },
  {
   "cell_type": "code",
   "execution_count": null,
   "id": "2ca1bd97",
   "metadata": {},
   "outputs": [],
   "source": []
  },
  {
   "cell_type": "code",
   "execution_count": null,
   "id": "889bda8c",
   "metadata": {},
   "outputs": [],
   "source": []
  }
 ],
 "metadata": {
  "kernelspec": {
   "display_name": "Python 3 (ipykernel)",
   "language": "python",
   "name": "python3"
  },
  "language_info": {
   "codemirror_mode": {
    "name": "ipython",
    "version": 3
   },
   "file_extension": ".py",
   "mimetype": "text/x-python",
   "name": "python",
   "nbconvert_exporter": "python",
   "pygments_lexer": "ipython3",
   "version": "3.9.7"
  }
 },
 "nbformat": 4,
 "nbformat_minor": 5
}
