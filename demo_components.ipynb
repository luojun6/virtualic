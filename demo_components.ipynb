{
 "cells": [
  {
   "cell_type": "markdown",
   "id": "2c259417",
   "metadata": {},
   "source": [
    "# A simple demo for the comstumized widgets in components package"
   ]
  },
  {
   "cell_type": "markdown",
   "id": "17570a0e",
   "metadata": {},
   "source": [
    "## DisplayPanel with PowerManagement"
   ]
  },
  {
   "cell_type": "code",
   "execution_count": null,
   "id": "da3684d7",
   "metadata": {},
   "outputs": [],
   "source": []
  },
  {
   "cell_type": "code",
   "execution_count": null,
   "id": "3961789e",
   "metadata": {},
   "outputs": [],
   "source": [
    "from components.DisplayPanel import *\n",
    "from rules.HeadUnitPM import *\n",
    "from IPython.display import HTML\n",
    "from css.css import get_css_html\n",
    "from utils.loggers import logging_handler\n",
    "html = get_css_html(\"theme\")\n",
    "HTML(html.read().decode('utf-8'))"
   ]
  },
  {
   "cell_type": "code",
   "execution_count": null,
   "id": "89540de2",
   "metadata": {},
   "outputs": [],
   "source": [
    "dp = DisplayPanel()\n",
    "dp"
   ]
  },
  {
   "cell_type": "code",
   "execution_count": null,
   "id": "2201fd25",
   "metadata": {},
   "outputs": [],
   "source": [
    "pmd = PowerManagementDisplay(display=dp)"
   ]
  },
  {
   "cell_type": "code",
   "execution_count": null,
   "id": "8e9dba97",
   "metadata": {},
   "outputs": [],
   "source": [
    "pmd.start_up()"
   ]
  },
  {
   "cell_type": "code",
   "execution_count": null,
   "id": "a8acf0c8",
   "metadata": {},
   "outputs": [],
   "source": [
    "pmd.power_off()"
   ]
  },
  {
   "cell_type": "code",
   "execution_count": null,
   "id": "4e5bba2f",
   "metadata": {},
   "outputs": [],
   "source": [
    "logging_handler.show_logs()"
   ]
  },
  {
   "cell_type": "code",
   "execution_count": null,
   "id": "a4f806ed",
   "metadata": {},
   "outputs": [],
   "source": [
    "dp == pmd.display"
   ]
  },
  {
   "cell_type": "code",
   "execution_count": null,
   "id": "dd929df7",
   "metadata": {},
   "outputs": [],
   "source": []
  },
  {
   "cell_type": "code",
   "execution_count": null,
   "id": "8cc63847",
   "metadata": {},
   "outputs": [],
   "source": []
  },
  {
   "cell_type": "markdown",
   "id": "9db117ef",
   "metadata": {},
   "source": [
    "## DockButtons"
   ]
  },
  {
   "cell_type": "code",
   "execution_count": null,
   "id": "edcf68df",
   "metadata": {},
   "outputs": [],
   "source": [
    "from components.DockButtons import DockButtons"
   ]
  },
  {
   "cell_type": "code",
   "execution_count": null,
   "id": "c07050f2",
   "metadata": {
    "scrolled": true
   },
   "outputs": [],
   "source": [
    "dock = DockButtons()\n",
    "dock"
   ]
  },
  {
   "cell_type": "code",
   "execution_count": null,
   "id": "da26b9c8",
   "metadata": {},
   "outputs": [],
   "source": []
  },
  {
   "cell_type": "markdown",
   "id": "08fc666c",
   "metadata": {},
   "source": [
    "## SignalCluster"
   ]
  },
  {
   "cell_type": "code",
   "execution_count": null,
   "id": "ec1e2c28",
   "metadata": {},
   "outputs": [],
   "source": [
    "from components.SignalClusters import SignalClusterPM"
   ]
  },
  {
   "cell_type": "code",
   "execution_count": null,
   "id": "00b2d81f",
   "metadata": {},
   "outputs": [],
   "source": [
    "signal_cluster_pm = SignalClusterPM()"
   ]
  },
  {
   "cell_type": "code",
   "execution_count": null,
   "id": "9250132b",
   "metadata": {
    "scrolled": true
   },
   "outputs": [],
   "source": [
    "signal_cluster_pm"
   ]
  },
  {
   "cell_type": "markdown",
   "id": "a07a9944",
   "metadata": {},
   "source": [
    "### Rules of composing HeadUnit PM and Signals"
   ]
  },
  {
   "cell_type": "code",
   "execution_count": null,
   "id": "419e5fd2",
   "metadata": {},
   "outputs": [],
   "source": [
    "from rules.VehicleHeadUnitPM import VehicleHeadUnitPM_SAIC as VehicleHeadUnitPM"
   ]
  },
  {
   "cell_type": "code",
   "execution_count": null,
   "id": "b52e8807",
   "metadata": {},
   "outputs": [],
   "source": [
    "veh_hu_pm = VehicleHeadUnitPM(hu_pm=pmd, sc_pm=signal_cluster_pm)"
   ]
  },
  {
   "cell_type": "code",
   "execution_count": null,
   "id": "bf6b035e",
   "metadata": {},
   "outputs": [],
   "source": []
  },
  {
   "cell_type": "markdown",
   "id": "da0d719c",
   "metadata": {},
   "source": [
    "## VirtualHeadUnit"
   ]
  },
  {
   "cell_type": "code",
   "execution_count": 1,
   "id": "1864b5f7",
   "metadata": {},
   "outputs": [],
   "source": [
    "from components.VirtualHeadUnit import VirtualHeadUnit"
   ]
  },
  {
   "cell_type": "code",
   "execution_count": 2,
   "id": "66fc354e",
   "metadata": {},
   "outputs": [
    {
     "data": {
      "application/vnd.jupyter.widget-view+json": {
       "model_id": "53a67095f91841e5818a9c40522c4832",
       "version_major": 2,
       "version_minor": 0
      },
      "text/plain": [
       "VirtualHeadUnit(children=(DisplayPanel(children=(Output(layout=Layout(align_items='center', justify_content='s…"
      ]
     },
     "metadata": {},
     "output_type": "display_data"
    }
   ],
   "source": [
    "# v_headunit = VirtualHeadUnit(display=dp, veh_power_manager=veh_hu_pm)\n",
    "v_headunit = VirtualHeadUnit()\n",
    "v_headunit"
   ]
  },
  {
   "cell_type": "code",
   "execution_count": 3,
   "id": "3a62257a",
   "metadata": {},
   "outputs": [
    {
     "data": {
      "application/vnd.jupyter.widget-view+json": {
       "model_id": "c6f909f43ccc441caf5161230435996d",
       "version_major": 2,
       "version_minor": 0
      },
      "text/plain": [
       "SignalClusterAVM360(children=(HTML(value=\"<h3 style='font-weight:bold'>AVM360 Signals Cluster</h3>\"), VBox(chi…"
      ]
     },
     "metadata": {},
     "output_type": "display_data"
    }
   ],
   "source": [
    "v_headunit.avm360context.signal_cluster"
   ]
  },
  {
   "cell_type": "code",
   "execution_count": null,
   "id": "11546780",
   "metadata": {},
   "outputs": [],
   "source": [
    "logging_handler.show_logs()"
   ]
  },
  {
   "cell_type": "code",
   "execution_count": null,
   "id": "ebd512e1",
   "metadata": {},
   "outputs": [],
   "source": []
  },
  {
   "cell_type": "markdown",
   "id": "a9b847ad",
   "metadata": {},
   "source": [
    "## PowerControlBox_AVM360"
   ]
  },
  {
   "cell_type": "code",
   "execution_count": null,
   "id": "0189b330",
   "metadata": {},
   "outputs": [],
   "source": [
    "from components.PMIC_AVM360 import PowerControlBox_AVM360"
   ]
  },
  {
   "cell_type": "code",
   "execution_count": null,
   "id": "c69d45e0",
   "metadata": {},
   "outputs": [],
   "source": [
    "cam = PowerControlBox_AVM360()"
   ]
  },
  {
   "cell_type": "code",
   "execution_count": null,
   "id": "ae32bdb8",
   "metadata": {},
   "outputs": [],
   "source": [
    "cam"
   ]
  },
  {
   "cell_type": "code",
   "execution_count": null,
   "id": "bb312fa9",
   "metadata": {},
   "outputs": [],
   "source": [
    "cam.power_on()"
   ]
  },
  {
   "cell_type": "code",
   "execution_count": null,
   "id": "71ced88e",
   "metadata": {},
   "outputs": [],
   "source": [
    "cam.power_off()"
   ]
  },
  {
   "cell_type": "code",
   "execution_count": null,
   "id": "b9bdd5c5",
   "metadata": {},
   "outputs": [],
   "source": []
  },
  {
   "cell_type": "markdown",
   "id": "618b87a2",
   "metadata": {},
   "source": [
    "## SignalClusterAVM360"
   ]
  },
  {
   "cell_type": "code",
   "execution_count": null,
   "id": "1174b934",
   "metadata": {},
   "outputs": [],
   "source": [
    "from components.SignalClusters_AVM360 import SignalClusterAVM360\n",
    "signals_avm360 = SignalClusterAVM360()\n",
    "signals_avm360"
   ]
  },
  {
   "cell_type": "code",
   "execution_count": null,
   "id": "46beeb32",
   "metadata": {},
   "outputs": [],
   "source": []
  },
  {
   "cell_type": "code",
   "execution_count": null,
   "id": "9abc94f2",
   "metadata": {},
   "outputs": [],
   "source": []
  },
  {
   "cell_type": "code",
   "execution_count": null,
   "id": "4bf53d6d",
   "metadata": {},
   "outputs": [],
   "source": []
  },
  {
   "cell_type": "code",
   "execution_count": null,
   "id": "aeade495",
   "metadata": {},
   "outputs": [],
   "source": []
  },
  {
   "cell_type": "code",
   "execution_count": null,
   "id": "0c2615c8",
   "metadata": {},
   "outputs": [],
   "source": []
  },
  {
   "cell_type": "code",
   "execution_count": null,
   "id": "c8177a3c",
   "metadata": {},
   "outputs": [],
   "source": []
  }
 ],
 "metadata": {
  "kernelspec": {
   "display_name": "Python 3 (ipykernel)",
   "language": "python",
   "name": "python3"
  },
  "language_info": {
   "codemirror_mode": {
    "name": "ipython",
    "version": 3
   },
   "file_extension": ".py",
   "mimetype": "text/x-python",
   "name": "python",
   "nbconvert_exporter": "python",
   "pygments_lexer": "ipython3",
   "version": "3.9.7"
  }
 },
 "nbformat": 4,
 "nbformat_minor": 5
}
