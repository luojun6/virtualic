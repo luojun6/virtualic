{
 "cells": [
  {
   "cell_type": "markdown",
   "id": "2c259417",
   "metadata": {},
   "source": [
    "# A simple demo for the comstumized widgets in components package"
   ]
  },
  {
   "cell_type": "markdown",
   "id": "17570a0e",
   "metadata": {},
   "source": [
    "## DisplayPanel with PowerManagement"
   ]
  },
  {
   "cell_type": "code",
   "execution_count": null,
   "id": "da3684d7",
   "metadata": {},
   "outputs": [],
   "source": []
  },
  {
   "cell_type": "code",
   "execution_count": null,
   "id": "3961789e",
   "metadata": {},
   "outputs": [],
   "source": [
    "from components.DisplayPanel import *\n",
    "from rules.HeadUnitPM import *\n",
    "from IPython.display import HTML\n",
    "from css.css import get_css_html\n",
    "from utils.loggers import logging_handler\n",
    "html = get_css_html(\"theme\")\n",
    "HTML(html.read().decode('utf-8'))"
   ]
  },
  {
   "cell_type": "code",
   "execution_count": null,
   "id": "89540de2",
   "metadata": {},
   "outputs": [],
   "source": [
    "dp = DisplayPanel()\n",
    "dp"
   ]
  },
  {
   "cell_type": "code",
   "execution_count": null,
   "id": "2201fd25",
   "metadata": {},
   "outputs": [],
   "source": [
    "pmd = PowerManagementDisplay(display=dp)"
   ]
  },
  {
   "cell_type": "code",
   "execution_count": null,
   "id": "8e9dba97",
   "metadata": {},
   "outputs": [],
   "source": [
    "pmd.start_up()"
   ]
  },
  {
   "cell_type": "code",
   "execution_count": null,
   "id": "a8acf0c8",
   "metadata": {},
   "outputs": [],
   "source": [
    "pmd.power_off()"
   ]
  },
  {
   "cell_type": "code",
   "execution_count": null,
   "id": "4e5bba2f",
   "metadata": {},
   "outputs": [],
   "source": [
    "logging_handler.show_logs()"
   ]
  },
  {
   "cell_type": "code",
   "execution_count": null,
   "id": "a4f806ed",
   "metadata": {},
   "outputs": [],
   "source": [
    "dp == pmd.display"
   ]
  },
  {
   "cell_type": "code",
   "execution_count": null,
   "id": "dd929df7",
   "metadata": {},
   "outputs": [],
   "source": []
  },
  {
   "cell_type": "code",
   "execution_count": null,
   "id": "8cc63847",
   "metadata": {},
   "outputs": [],
   "source": []
  },
  {
   "cell_type": "markdown",
   "id": "9db117ef",
   "metadata": {},
   "source": [
    "## DockButtons"
   ]
  },
  {
   "cell_type": "code",
   "execution_count": null,
   "id": "edcf68df",
   "metadata": {},
   "outputs": [],
   "source": [
    "from components.DockButtons import DockButtons"
   ]
  },
  {
   "cell_type": "code",
   "execution_count": null,
   "id": "c07050f2",
   "metadata": {
    "scrolled": true
   },
   "outputs": [],
   "source": [
    "dock = DockButtons()\n",
    "dock"
   ]
  },
  {
   "cell_type": "code",
   "execution_count": null,
   "id": "da26b9c8",
   "metadata": {},
   "outputs": [],
   "source": []
  },
  {
   "cell_type": "markdown",
   "id": "08fc666c",
   "metadata": {},
   "source": [
    "## SignalCluster"
   ]
  },
  {
   "cell_type": "code",
   "execution_count": null,
   "id": "ec1e2c28",
   "metadata": {},
   "outputs": [],
   "source": [
    "from components.SignalClusters import SignalClusterPM"
   ]
  },
  {
   "cell_type": "code",
   "execution_count": null,
   "id": "00b2d81f",
   "metadata": {},
   "outputs": [],
   "source": [
    "signal_cluster_pm = SignalClusterPM()"
   ]
  },
  {
   "cell_type": "code",
   "execution_count": null,
   "id": "9250132b",
   "metadata": {
    "scrolled": true
   },
   "outputs": [],
   "source": [
    "signal_cluster_pm"
   ]
  },
  {
   "cell_type": "markdown",
   "id": "a07a9944",
   "metadata": {},
   "source": [
    "### Rules of composing HeadUnit PM and Signals"
   ]
  },
  {
   "cell_type": "code",
   "execution_count": null,
   "id": "419e5fd2",
   "metadata": {},
   "outputs": [],
   "source": [
    "from rules.VehicleHeadUnitPM import VehicleHeadUnitPM_SAIC as VehicleHeadUnitPM"
   ]
  },
  {
   "cell_type": "code",
   "execution_count": null,
   "id": "b52e8807",
   "metadata": {},
   "outputs": [],
   "source": [
    "veh_hu_pm = VehicleHeadUnitPM(hu_pm=pmd, sc_pm=signal_cluster_pm)"
   ]
  },
  {
   "cell_type": "code",
   "execution_count": null,
   "id": "bf6b035e",
   "metadata": {},
   "outputs": [],
   "source": []
  },
  {
   "cell_type": "markdown",
   "id": "da0d719c",
   "metadata": {},
   "source": [
    "## VirtualHeadUnit"
   ]
  },
  {
   "cell_type": "code",
   "execution_count": 1,
   "id": "1864b5f7",
   "metadata": {},
   "outputs": [],
   "source": [
    "from components.VirtualHeadUnit import VirtualHeadUnit"
   ]
  },
  {
   "cell_type": "code",
   "execution_count": 2,
   "id": "66fc354e",
   "metadata": {},
   "outputs": [
    {
     "data": {
      "application/vnd.jupyter.widget-view+json": {
       "model_id": "739057e8f7c844e7824d0aa644b18bc4",
       "version_major": 2,
       "version_minor": 0
      },
      "text/plain": [
       "VirtualHeadUnit(children=(DisplayPanel(children=(Output(layout=Layout(align_items='center', justify_content='s…"
      ]
     },
     "metadata": {},
     "output_type": "display_data"
    }
   ],
   "source": [
    "# v_headunit = VirtualHeadUnit(display=dp, veh_power_manager=veh_hu_pm)\n",
    "v_headunit = VirtualHeadUnit()\n",
    "v_headunit"
   ]
  },
  {
   "cell_type": "code",
   "execution_count": 3,
   "id": "a82b350e",
   "metadata": {},
   "outputs": [
    {
     "data": {
      "application/vnd.jupyter.widget-view+json": {
       "model_id": "d2f5d952668348f0b2b10e5ff915d6e8",
       "version_major": 2,
       "version_minor": 0
      },
      "text/plain": [
       "SignalClusterAVM360(children=(HTML(value=\"<h3 style='font-weight:bold'>AVM360 Signals Cluster</h3>\"), VBox(chi…"
      ]
     },
     "metadata": {},
     "output_type": "display_data"
    }
   ],
   "source": [
    "v_headunit.avm360service.signal_cluster"
   ]
  },
  {
   "cell_type": "code",
   "execution_count": null,
   "id": "11546780",
   "metadata": {},
   "outputs": [],
   "source": [
    "logging_handler.show_logs()"
   ]
  },
  {
   "cell_type": "code",
   "execution_count": null,
   "id": "ebd512e1",
   "metadata": {},
   "outputs": [],
   "source": []
  },
  {
   "cell_type": "markdown",
   "id": "0c5c69ab",
   "metadata": {},
   "source": [
    "## PowerControlBox_AVM360"
   ]
  },
  {
   "cell_type": "code",
   "execution_count": null,
   "id": "9c86a507",
   "metadata": {},
   "outputs": [],
   "source": [
    "from components.PMIC_AVM360 import PowerControlBox_AVM360"
   ]
  },
  {
   "cell_type": "code",
   "execution_count": null,
   "id": "5edae14a",
   "metadata": {},
   "outputs": [],
   "source": [
    "cam = PowerControlBox_AVM360()"
   ]
  },
  {
   "cell_type": "code",
   "execution_count": null,
   "id": "f1a84933",
   "metadata": {},
   "outputs": [],
   "source": [
    "cam"
   ]
  },
  {
   "cell_type": "code",
   "execution_count": null,
   "id": "ef51d0f8",
   "metadata": {},
   "outputs": [],
   "source": [
    "cam.power_on()"
   ]
  },
  {
   "cell_type": "code",
   "execution_count": null,
   "id": "cebf42eb",
   "metadata": {},
   "outputs": [],
   "source": [
    "cam.power_off()"
   ]
  },
  {
   "cell_type": "code",
   "execution_count": null,
   "id": "56da6147",
   "metadata": {},
   "outputs": [],
   "source": []
  },
  {
   "cell_type": "markdown",
   "id": "9b74426c",
   "metadata": {},
   "source": [
    "## SignalClusterAVM360"
   ]
  },
  {
   "cell_type": "code",
   "execution_count": null,
   "id": "a1080f40",
   "metadata": {},
   "outputs": [],
   "source": [
    "from components.SignalClusters_AVM360 import SignalClusterAVM360\n",
    "signals_avm360 = SignalClusterAVM360()\n",
    "signals_avm360"
   ]
  },
  {
   "cell_type": "code",
   "execution_count": null,
   "id": "67b87dc3",
   "metadata": {},
   "outputs": [],
   "source": []
  },
  {
   "cell_type": "code",
   "execution_count": null,
   "id": "da7d896f",
   "metadata": {},
   "outputs": [],
   "source": []
  },
  {
   "cell_type": "code",
   "execution_count": null,
   "id": "c11472c1",
   "metadata": {},
   "outputs": [],
   "source": []
  },
  {
   "cell_type": "code",
   "execution_count": null,
   "id": "e4d1f48b",
   "metadata": {},
   "outputs": [],
   "source": []
  },
  {
   "cell_type": "code",
   "execution_count": null,
   "id": "9ae75a3c",
   "metadata": {},
   "outputs": [],
   "source": []
  },
  {
   "cell_type": "code",
   "execution_count": null,
   "id": "460e8ce8",
   "metadata": {},
   "outputs": [],
   "source": []
  }
 ],
 "metadata": {
  "kernelspec": {
   "display_name": "Python 3 (ipykernel)",
   "language": "python",
   "name": "python3"
  },
  "language_info": {
   "codemirror_mode": {
    "name": "ipython",
    "version": 3
   },
   "file_extension": ".py",
   "mimetype": "text/x-python",
   "name": "python",
   "nbconvert_exporter": "python",
   "pygments_lexer": "ipython3",
   "version": "3.9.7"
  }
 },
 "nbformat": 4,
 "nbformat_minor": 5
}
