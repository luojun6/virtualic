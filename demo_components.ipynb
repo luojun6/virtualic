{
 "cells": [
  {
   "cell_type": "markdown",
   "id": "2c259417",
   "metadata": {},
   "source": [
    "# A simple demo for the comstumized widgets in components package"
   ]
  },
  {
   "cell_type": "markdown",
   "id": "17570a0e",
   "metadata": {},
   "source": [
    "## DisplayPanel"
   ]
  },
  {
   "cell_type": "code",
   "execution_count": null,
   "id": "da3684d7",
   "metadata": {},
   "outputs": [],
   "source": []
  },
  {
   "cell_type": "code",
   "execution_count": 1,
   "id": "3961789e",
   "metadata": {},
   "outputs": [
    {
     "data": {
      "text/html": [
       "<!DOCTYPE html>\n",
       "<html>\n",
       "  <head>\n",
       "    <style>\n",
       "      .screen_off {\n",
       "        \n",
       "        background-color: black;\n",
       "      }\n",
       "      .font_color_day {\n",
       "        color: blue;\n",
       "      }\n",
       "      .font_color_night {\n",
       "        color: yellow;\n",
       "      }\n",
       "      .theme_day {\n",
       "        background-color: #f9f9f9;\n",
       "      }\n",
       "      .theme_night {\n",
       "        background-color: #1e1e1e;\n",
       "      }\n",
       "    </style>\n",
       "  </head>\n",
       "  <body></body>\n",
       "</html>\n"
      ],
      "text/plain": [
       "<IPython.core.display.HTML object>"
      ]
     },
     "execution_count": 1,
     "metadata": {},
     "output_type": "execute_result"
    }
   ],
   "source": [
    "from components.DisplayPanel import *\n",
    "from strategies.PowerManagement import *\n",
    "from IPython.display import HTML\n",
    "from css.css import get_css_html\n",
    "from utils.loggers import logging_handler\n",
    "html = get_css_html(\"theme\")\n",
    "HTML(html.read().decode('utf-8'))"
   ]
  },
  {
   "cell_type": "code",
   "execution_count": 2,
   "id": "89540de2",
   "metadata": {},
   "outputs": [
    {
     "data": {
      "application/vnd.jupyter.widget-view+json": {
       "model_id": "22a85703ff6442bea39582d2c8670687",
       "version_major": 2,
       "version_minor": 0
      },
      "text/plain": [
       "DisplayPanel(children=(Output(layout=Layout(align_items='center', justify_content='center')),), layout=Layout(…"
      ]
     },
     "metadata": {},
     "output_type": "display_data"
    }
   ],
   "source": [
    "dp = DisplayPanel()\n",
    "dp"
   ]
  },
  {
   "cell_type": "code",
   "execution_count": 3,
   "id": "2201fd25",
   "metadata": {},
   "outputs": [],
   "source": [
    "dpm = PowerManagementDisplay(display=dp)"
   ]
  },
  {
   "cell_type": "code",
   "execution_count": 4,
   "id": "8e9dba97",
   "metadata": {},
   "outputs": [],
   "source": [
    "dpm.start_up()"
   ]
  },
  {
   "cell_type": "code",
   "execution_count": 5,
   "id": "4e5bba2f",
   "metadata": {},
   "outputs": [
    {
     "data": {
      "application/vnd.jupyter.widget-view+json": {
       "model_id": "faa830bdd36d4dd69966a60888e163ea",
       "version_major": 2,
       "version_minor": 0
      },
      "text/plain": [
       "Output(layout=Layout(border='1px solid black', height='auto', width='100%'), outputs=({'name': 'stdout', 'outp…"
      ]
     },
     "metadata": {},
     "output_type": "display_data"
    }
   ],
   "source": [
    "logging_handler.show_logs()"
   ]
  },
  {
   "cell_type": "code",
   "execution_count": 6,
   "id": "a8acf0c8",
   "metadata": {},
   "outputs": [],
   "source": [
    "dpm.power_off()"
   ]
  },
  {
   "cell_type": "code",
   "execution_count": null,
   "id": "edcf68df",
   "metadata": {},
   "outputs": [],
   "source": []
  }
 ],
 "metadata": {
  "kernelspec": {
   "display_name": "Python 3",
   "language": "python",
   "name": "python3"
  },
  "language_info": {
   "codemirror_mode": {
    "name": "ipython",
    "version": 3
   },
   "file_extension": ".py",
   "mimetype": "text/x-python",
   "name": "python",
   "nbconvert_exporter": "python",
   "pygments_lexer": "ipython3",
   "version": "3.8.8"
  }
 },
 "nbformat": 4,
 "nbformat_minor": 5
}
