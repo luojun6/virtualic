{
 "cells": [
  {
   "cell_type": "markdown",
   "id": "2c259417",
   "metadata": {},
   "source": [
    "# A simple demo for the comstumized widgets in components package"
   ]
  },
  {
   "cell_type": "markdown",
   "id": "17570a0e",
   "metadata": {},
   "source": [
    "## DisplayPanel with PowerManagement"
   ]
  },
  {
   "cell_type": "code",
   "execution_count": null,
   "id": "da3684d7",
   "metadata": {},
   "outputs": [],
   "source": []
  },
  {
   "cell_type": "code",
   "execution_count": 5,
   "id": "3961789e",
   "metadata": {},
   "outputs": [
    {
     "data": {
      "text/html": [
       "<!DOCTYPE html>\n",
       "<html>\n",
       "  <head>\n",
       "    <style>\n",
       "      .screen_off {\n",
       "        \n",
       "        background-color: black;\n",
       "      }\n",
       "      .font_color_day {\n",
       "        color: blue;\n",
       "      }\n",
       "      .font_color_night {\n",
       "        color: yellow;\n",
       "      }\n",
       "      .theme_day {\n",
       "        background-color: #f9f9f9;\n",
       "      }\n",
       "      .theme_night {\n",
       "        background-color: #1e1e1e;\n",
       "      }\n",
       "    </style>\n",
       "  </head>\n",
       "  <body></body>\n",
       "</html>\n"
      ],
      "text/plain": [
       "<IPython.core.display.HTML object>"
      ]
     },
     "execution_count": 5,
     "metadata": {},
     "output_type": "execute_result"
    }
   ],
   "source": [
    "from components.DisplayPanel import *\n",
    "from rules.HeadUnitPM import *\n",
    "from IPython.display import HTML\n",
    "from css.css import get_css_html\n",
    "from utils.loggers import logging_handler\n",
    "html = get_css_html(\"theme\")\n",
    "HTML(html.read().decode('utf-8'))"
   ]
  },
  {
   "cell_type": "code",
   "execution_count": null,
   "id": "89540de2",
   "metadata": {},
   "outputs": [],
   "source": [
    "dp = DisplayPanel()\n",
    "dp"
   ]
  },
  {
   "cell_type": "code",
   "execution_count": null,
   "id": "2201fd25",
   "metadata": {},
   "outputs": [],
   "source": [
    "pmd = PowerManagementDisplay(display=dp)"
   ]
  },
  {
   "cell_type": "code",
   "execution_count": null,
   "id": "8e9dba97",
   "metadata": {},
   "outputs": [],
   "source": [
    "pmd.start_up()"
   ]
  },
  {
   "cell_type": "code",
   "execution_count": null,
   "id": "a8acf0c8",
   "metadata": {},
   "outputs": [],
   "source": [
    "pmd.power_off()"
   ]
  },
  {
   "cell_type": "code",
   "execution_count": null,
   "id": "4e5bba2f",
   "metadata": {},
   "outputs": [],
   "source": [
    "logging_handler.show_logs()"
   ]
  },
  {
   "cell_type": "code",
   "execution_count": null,
   "id": "a4f806ed",
   "metadata": {},
   "outputs": [],
   "source": [
    "dp == pmd.display"
   ]
  },
  {
   "cell_type": "code",
   "execution_count": null,
   "id": "dd929df7",
   "metadata": {},
   "outputs": [],
   "source": []
  },
  {
   "cell_type": "code",
   "execution_count": null,
   "id": "8cc63847",
   "metadata": {},
   "outputs": [],
   "source": []
  },
  {
   "cell_type": "markdown",
   "id": "9db117ef",
   "metadata": {},
   "source": [
    "## DockButtons"
   ]
  },
  {
   "cell_type": "code",
   "execution_count": null,
   "id": "edcf68df",
   "metadata": {},
   "outputs": [],
   "source": [
    "from components.DockButtons import DockButtons"
   ]
  },
  {
   "cell_type": "code",
   "execution_count": null,
   "id": "c07050f2",
   "metadata": {
    "scrolled": true
   },
   "outputs": [],
   "source": [
    "dock = DockButtons()\n",
    "dock"
   ]
  },
  {
   "cell_type": "code",
   "execution_count": null,
   "id": "da26b9c8",
   "metadata": {},
   "outputs": [],
   "source": []
  },
  {
   "cell_type": "markdown",
   "id": "08fc666c",
   "metadata": {},
   "source": [
    "## SignalCluster"
   ]
  },
  {
   "cell_type": "code",
   "execution_count": null,
   "id": "ec1e2c28",
   "metadata": {},
   "outputs": [],
   "source": [
    "from components.SignalClusters import SignalClusterPM"
   ]
  },
  {
   "cell_type": "code",
   "execution_count": null,
   "id": "00b2d81f",
   "metadata": {},
   "outputs": [],
   "source": [
    "signal_cluster_pm = SignalClusterPM()"
   ]
  },
  {
   "cell_type": "code",
   "execution_count": null,
   "id": "9250132b",
   "metadata": {
    "scrolled": true
   },
   "outputs": [],
   "source": [
    "signal_cluster_pm"
   ]
  },
  {
   "cell_type": "markdown",
   "id": "a07a9944",
   "metadata": {},
   "source": [
    "### Rules of composing HeadUnit PM and Signals"
   ]
  },
  {
   "cell_type": "code",
   "execution_count": null,
   "id": "419e5fd2",
   "metadata": {},
   "outputs": [],
   "source": [
    "from rules.VehicleHeadUnitPM import VehicleHeadUnitPM_SAIC as VehicleHeadUnitPM"
   ]
  },
  {
   "cell_type": "code",
   "execution_count": null,
   "id": "b52e8807",
   "metadata": {},
   "outputs": [],
   "source": [
    "veh_hu_pm = VehicleHeadUnitPM(hu_pm=pmd, sc_pm=signal_cluster_pm)"
   ]
  },
  {
   "cell_type": "code",
   "execution_count": null,
   "id": "bf6b035e",
   "metadata": {},
   "outputs": [],
   "source": []
  },
  {
   "cell_type": "code",
   "execution_count": null,
   "id": "ebd512e1",
   "metadata": {},
   "outputs": [],
   "source": []
  },
  {
   "cell_type": "markdown",
   "id": "b96b8665",
   "metadata": {},
   "source": [
    "## PowerControlBox_AVM360"
   ]
  },
  {
   "cell_type": "code",
   "execution_count": null,
   "id": "b6cf651b",
   "metadata": {},
   "outputs": [],
   "source": [
    "from components.PMIC_AVM360 import PowerControlBox_AVM360"
   ]
  },
  {
   "cell_type": "code",
   "execution_count": null,
   "id": "d8ac7720",
   "metadata": {},
   "outputs": [],
   "source": [
    "cam = PowerControlBox_AVM360()"
   ]
  },
  {
   "cell_type": "code",
   "execution_count": null,
   "id": "969d4cc4",
   "metadata": {},
   "outputs": [],
   "source": [
    "cam"
   ]
  },
  {
   "cell_type": "code",
   "execution_count": null,
   "id": "23c4c3bf",
   "metadata": {},
   "outputs": [],
   "source": [
    "cam.power_on()"
   ]
  },
  {
   "cell_type": "code",
   "execution_count": null,
   "id": "03aaf446",
   "metadata": {},
   "outputs": [],
   "source": [
    "cam.power_off()"
   ]
  },
  {
   "cell_type": "code",
   "execution_count": null,
   "id": "5704d383",
   "metadata": {},
   "outputs": [],
   "source": []
  },
  {
   "cell_type": "markdown",
   "id": "86fcb05c",
   "metadata": {},
   "source": [
    "## SignalClusterAVM360"
   ]
  },
  {
   "cell_type": "code",
   "execution_count": null,
   "id": "a6767ad7",
   "metadata": {},
   "outputs": [],
   "source": [
    "from components.SignalClusters_AVM360 import SignalClusterAVM360\n",
    "signals_avm360 = SignalClusterAVM360()\n",
    "signals_avm360"
   ]
  },
  {
   "cell_type": "code",
   "execution_count": null,
   "id": "dd9aa2c3",
   "metadata": {},
   "outputs": [],
   "source": []
  },
  {
   "cell_type": "code",
   "execution_count": null,
   "id": "4174a49c",
   "metadata": {},
   "outputs": [],
   "source": []
  },
  {
   "cell_type": "code",
   "execution_count": null,
   "id": "06c79511",
   "metadata": {},
   "outputs": [],
   "source": []
  },
  {
   "cell_type": "code",
   "execution_count": null,
   "id": "a51b6952",
   "metadata": {},
   "outputs": [],
   "source": []
  },
  {
   "cell_type": "code",
   "execution_count": null,
   "id": "16e1f1ea",
   "metadata": {},
   "outputs": [],
   "source": []
  },
  {
   "cell_type": "code",
   "execution_count": null,
   "id": "1e0b518f",
   "metadata": {},
   "outputs": [],
   "source": []
  }
 ],
 "metadata": {
  "kernelspec": {
   "display_name": "Python 3 (ipykernel)",
   "language": "python",
   "name": "python3"
  },
  "language_info": {
   "codemirror_mode": {
    "name": "ipython",
    "version": 3
   },
   "file_extension": ".py",
   "mimetype": "text/x-python",
   "name": "python",
   "nbconvert_exporter": "python",
   "pygments_lexer": "ipython3",
   "version": "3.9.7"
  }
 },
 "nbformat": 4,
 "nbformat_minor": 5
}
